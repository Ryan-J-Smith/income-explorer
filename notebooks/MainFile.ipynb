{
 "cells": [
  {
   "cell_type": "markdown",
   "metadata": {},
   "source": [
    "# Main File\n",
    "\n",
    "This notebook is used for gathering and processing census files at the block group level."
   ]
  },
  {
   "cell_type": "code",
   "execution_count": 40,
   "metadata": {
    "collapsed": false
   },
   "outputs": [],
   "source": [
    "import os.path\n",
    "from census import Census\n",
    "from us import states\n",
    "import requests\n",
    "import geopandas as gpd\n",
    "import pandas as pd\n",
    "import zipfile\n",
    "\n",
    "# Specify state and county to download (select one)\n",
    "loc_name, state_code, county_codes = \"balt_city\", states.MD.fips, list([510]) # Baltimore\n",
    "# loc_name, state_code, county_codes = \"greater_balt\", states.MD.fips, list([510, 5]) # Baltimore City and County\n",
    "# loc_name, state_code, county_codes = \"new_orleans\", states.LA.fips, list([71]) # New Orleans\n",
    "#loc_name, state_code, county_codes = \"greater_new_york\", states.NY.fips, list([5, 47, 61, 81]) # Bronx, Kings, NY, Queens \n",
    "#loc_name, state_code, county_codes = \"new_york\", states.NY.fips, list([61]) # Bronx, Kings, NY, Queens \n",
    "\n",
    "# Create county list (string representation of county IDs)\n",
    "county_list = [\"{:03d}\".format(county_id) for county_id in county_codes]\n",
    "\n",
    "# CENSUS API Stuff\n",
    "CENSUS_API = #YourAPIKey\n",
    "c = Census(CENSUS_API) # Initialize census class with API key\n",
    "\n",
    "# Generate codes for census variables of interest\n",
    "var_ids = [\"B19001_0{:02d}E\".format(x) for x in range(2, 18)] # Household income over 12 months\n",
    "\n",
    "# TIGER Stuff\n",
    "TIGER_BASE_URL = 'http://www2.census.gov/geo/tiger/TIGER2013/'\n",
    "TIGER_TRACT_DIR = 'TRACT/'\n",
    "TIGER_BLOCKGROUP_DIR = 'BG/'\n",
    "\n",
    "TIGER_WATER_DIR = 'AREAWATER/'\n",
    "\n",
    "tiger_zip_file = 'tl_2013_{0}_bg.zip'.format(state_code)\n",
    "tiger_shape_file = 'tl_2013_{0}_bg.shp'.format(state_code)\n",
    "\n",
    "FULL_TIGER_URL = TIGER_BASE_URL + TIGER_BLOCKGROUP_DIR + tiger_zip_file\n",
    "\n",
    "# Local Storage Parameters\n",
    "LOCAL_DATA_DIR = './data/'\n",
    "GEO_SUB_DIR = 'geo/'\n",
    "\n",
    "ATTR_FILE_END = '_census_data.csv'\n",
    "attr_outfile = LOCAL_DATA_DIR + loc_name + ATTR_FILE_END\n",
    "\n",
    "GEO_FILE_END = '_geo_data.json'\n",
    "geo_outfile = LOCAL_DATA_DIR + loc_name + GEO_FILE_END\n"
   ]
  },
  {
   "cell_type": "markdown",
   "metadata": {},
   "source": [
    "## Get census (attribute) data"
   ]
  },
  {
   "cell_type": "code",
   "execution_count": 35,
   "metadata": {
    "collapsed": false
   },
   "outputs": [],
   "source": [
    "def build_bg_fips(record):\n",
    "    fips_code = record['state'] + record['county'] + record['tract'] + record['block group']\n",
    "    return str(fips_code)\n",
    "\n",
    "def census_to_dataframe(var_list, state_code, county_codes):\n",
    "    fips_codes = []\n",
    "    all_records = []\n",
    "    \n",
    "    for county in county_codes:        \n",
    "        census_data = c.acs.get(var_list, {'for': 'block group:*', 'in': 'state:{0} county:{1}'.format(state_code, county)})\n",
    "        \n",
    "        for idx, record in enumerate(census_data):\n",
    "            # Build fips codes\n",
    "            fips_code = build_bg_fips(record)\n",
    "            census_data[idx][\"fips\"] = fips_code\n",
    "\n",
    "            # Eliminate original code components\n",
    "            key_list = ['state', 'county', 'tract', 'block group']\n",
    "            for key in key_list:\n",
    "                if key in census_data[idx]: \n",
    "                    del census_data[idx][key]\n",
    "        \n",
    "        all_records.extend(census_data)\n",
    "        \n",
    "    census_df = pd.DataFrame(all_records)\n",
    "    census_df = census_df.set_index(\"fips\")\n",
    "                \n",
    "    return census_df\n",
    "\n",
    "# This segment of code will get household income estimates for each block group in Baltimore city\n",
    "census_df = census_to_dataframe(var_ids, state_code, county_codes)"
   ]
  },
  {
   "cell_type": "code",
   "execution_count": 36,
   "metadata": {
    "collapsed": false
   },
   "outputs": [],
   "source": [
    "census_df.to_csv(attr_outfile)"
   ]
  },
  {
   "cell_type": "markdown",
   "metadata": {},
   "source": [
    "## Get TIGER (shape) data"
   ]
  },
  {
   "cell_type": "code",
   "execution_count": 37,
   "metadata": {
    "collapsed": false
   },
   "outputs": [
    {
     "name": "stdout",
     "output_type": "stream",
     "text": [
      "Already had the file.  Great.\n"
     ]
    }
   ],
   "source": [
    "# Check if file is in directory, else download it\n",
    "if os.path.isfile(LOCAL_DATA_DIR + GEO_SUB_DIR + tiger_zip_file):\n",
    "    print(\"Already had the file.  Great.\")\n",
    "else:\n",
    "    r = requests.get(FULL_TIGER_URL)\n",
    "\n",
    "    if r.status_code == requests.codes.ok:\n",
    "        print(\"Got the file! Copying to disk.\")\n",
    "        with open(LOCAL_DATA_DIR + GEO_SUB_DIR + tiger_zip_file, \"wb\") as f:\n",
    "            f.write(r.content)\n",
    "    else:\n",
    "        print(\"Something went wrong. Status code: \".format(r.status_code))\n"
   ]
  },
  {
   "cell_type": "markdown",
   "metadata": {},
   "source": [
    "## Trim shape data to match attributes"
   ]
  },
  {
   "cell_type": "code",
   "execution_count": 44,
   "metadata": {
    "collapsed": true
   },
   "outputs": [],
   "source": [
    "# Unzip file, extract contents\n",
    "zfile = zipfile.ZipFile(LOCAL_DATA_DIR + GEO_SUB_DIR + tiger_zip_file)\n",
    "zfile.extractall(LOCAL_DATA_DIR + GEO_SUB_DIR)\n",
    "\n",
    "# Load to GeoDataFrame\n",
    "shapes = gpd.GeoDataFrame.from_file(LOCAL_DATA_DIR + GEO_SUB_DIR + tiger_shape_file)\n",
    "\n",
    "# Only keep counties that we are interested in\n",
    "shapes = shapes[shapes[\"COUNTYFP\"].isin(county_list)]\n"
   ]
  },
  {
   "cell_type": "markdown",
   "metadata": {},
   "source": [
    "## Get water data"
   ]
  },
  {
   "cell_type": "code",
   "execution_count": 41,
   "metadata": {
    "collapsed": false
   },
   "outputs": [
    {
     "name": "stdout",
     "output_type": "stream",
     "text": [
      "Got the file! Copying to disk.\n"
     ]
    }
   ],
   "source": [
    "# Check if file is in directory, else download it\n",
    "for county in county_list:\n",
    "    tiger_water_zip_file = \"tl_2013_{0}{1}_areawater.zip\".format(state_code, county)\n",
    "\n",
    "    if os.path.isfile(LOCAL_DATA_DIR + GEO_SUB_DIR + tiger_water_zip_file):\n",
    "        print(\"Already had the file.  Great.\")\n",
    "    else:\n",
    "        r = requests.get(TIGER_BASE_URL + TIGER_WATER_DIR + tiger_water_zip_file)\n",
    "\n",
    "        if r.status_code == requests.codes.ok:\n",
    "            print(\"Got the file! Copying to disk.\")\n",
    "            with open(LOCAL_DATA_DIR + GEO_SUB_DIR + tiger_water_zip_file, \"wb\") as f:\n",
    "                f.write(r.content)\n",
    "        else:\n",
    "            print(\"Something went wrong. Status code: \".format(r.status_code))\n",
    "    \n",
    "    # Unzip file, extract contents\n",
    "    zfile = zipfile.ZipFile(LOCAL_DATA_DIR + GEO_SUB_DIR + tiger_water_zip_file)\n",
    "    zfile.extractall(LOCAL_DATA_DIR + GEO_SUB_DIR)\n",
    "    \n",
    "    water_shape = g"
   ]
  },
  {
   "cell_type": "markdown",
   "metadata": {},
   "source": [
    "### Eliminate unneeded attributes, export shapes to geojson"
   ]
  },
  {
   "cell_type": "code",
   "execution_count": 39,
   "metadata": {
    "collapsed": true
   },
   "outputs": [],
   "source": [
    "small_shapes = gpd.GeoDataFrame()\n",
    "small_shapes[\"geometry\"] = shapes[\"geometry\"].simplify(tolerance=0.0001) # Simplify geometry to reduce file size\n",
    "small_shapes[\"fips\"] = shapes[\"GEOID\"]\n",
    "small_shapes = small_shapes.set_index(\"fips\")\n",
    "small_json = small_shapes.to_json()\n",
    "\n",
    "# Write to file\n",
    "with open(geo_outfile, 'w') as f:\n",
    "    f.write(small_json)"
   ]
  }
 ],
 "metadata": {
  "kernelspec": {
   "display_name": "Python 2",
   "language": "python",
   "name": "python2"
  },
  "language_info": {
   "codemirror_mode": {
    "name": "ipython",
    "version": 2
   },
   "file_extension": ".py",
   "mimetype": "text/x-python",
   "name": "python",
   "nbconvert_exporter": "python",
   "pygments_lexer": "ipython2",
   "version": "2.7.9"
  }
 },
 "nbformat": 4,
 "nbformat_minor": 0
}
